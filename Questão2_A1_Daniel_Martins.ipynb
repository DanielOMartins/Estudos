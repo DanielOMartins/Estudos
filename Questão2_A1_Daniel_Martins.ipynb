{
  "nbformat": 4,
  "nbformat_minor": 0,
  "metadata": {
    "colab": {
      "provenance": [],
      "authorship_tag": "ABX9TyMBoIOMuw9wr/eVsLyhItFd",
      "include_colab_link": true
    },
    "kernelspec": {
      "name": "python3",
      "display_name": "Python 3"
    },
    "language_info": {
      "name": "python"
    }
  },
  "cells": [
    {
      "cell_type": "markdown",
      "metadata": {
        "id": "view-in-github",
        "colab_type": "text"
      },
      "source": [
        "<a href=\"https://colab.research.google.com/github/DanielOMartins/Estudos/blob/master/Quest%C3%A3o2_A1_Daniel_Martins.ipynb\" target=\"_parent\"><img src=\"https://colab.research.google.com/assets/colab-badge.svg\" alt=\"Open In Colab\"/></a>"
      ]
    },
    {
      "cell_type": "code",
      "execution_count": 1,
      "metadata": {
        "id": "zSW8tVouSld2"
      },
      "outputs": [],
      "source": [
        "from sklearn import tree\n",
        "import graphviz\n",
        "import numpy as np\n",
        "import os\n",
        "from sklearn.tree import export_text\n",
        "\n",
        "from google.colab import drive"
      ]
    },
    {
      "cell_type": "code",
      "source": [
        "drive.mount('/content/drive')\n",
        "os.chdir(\"drive/My Drive/Colab Notebooks\")"
      ],
      "metadata": {
        "colab": {
          "base_uri": "https://localhost:8080/"
        },
        "id": "5UYIYncwSl9H",
        "outputId": "565ca9fe-4537-43be-d9b3-f539dcda7c03"
      },
      "execution_count": 2,
      "outputs": [
        {
          "output_type": "stream",
          "name": "stdout",
          "text": [
            "Mounted at /content/drive\n"
          ]
        }
      ]
    },
    {
      "cell_type": "code",
      "source": [
        "if __name__ == \"__main__\":\n",
        "\n",
        "    # reading iris data\n",
        "    fname = os.path.join(\"iris.csv\")\n",
        "    dataset = np.loadtxt(fname, delimiter=\",\")\n",
        "\n",
        "    print(dataset)\n",
        "    # separate data and labels\n",
        "    x_data = dataset[0:, 0:4]\n",
        "    y_data = dataset[0:, 4:5]\n",
        "\n",
        "    # building a decision tree\n",
        "    clf = tree.DecisionTreeClassifier(criterion=\"entropy\")\n",
        "    clf = clf.fit(x_data, y_data)\n",
        "    tree.plot_tree(clf)\n",
        "\n",
        "    # defining features names\n",
        "    features = ['sepal length (cm)', 'sepal width (cm)',\n",
        "                'petal length (cm)', 'petal width (cm)']\n",
        "\n",
        "    # defining labels names\n",
        "    classes = ['setosa', 'versicolor', 'virginica']\n",
        "\n",
        "    # writing a tree to text console\n",
        "    text_tree = export_text(clf, feature_names=features)\n",
        "    print(text_tree)\n",
        "\n",
        "    # defining parameters to visualize a tree\n",
        "    dot_data = tree.export_graphviz(clf,\n",
        "                                    out_file=None,\n",
        "                                    feature_names=features,\n",
        "                                    class_names=classes,\n",
        "                                    filled=True,\n",
        "                                    rounded=True,\n",
        "                                    special_characters=True\n",
        "                                    )\n",
        "\n",
        "    # creating a visual graph\n",
        "    graph = graphviz.Source(dot_data)\n",
        "    graph.render(\"iris\")"
      ],
      "metadata": {
        "colab": {
          "base_uri": "https://localhost:8080/",
          "height": 562
        },
        "id": "Hyj_UmQJSvC1",
        "outputId": "0424f537-548e-48f9-bc11-147c38837adc"
      },
      "execution_count": 3,
      "outputs": [
        {
          "output_type": "stream",
          "name": "stdout",
          "text": [
            "[[5.1 3.5 1.4 0.2 0. ]\n",
            " [4.9 3.  1.4 0.2 0. ]\n",
            " [4.7 3.2 1.3 0.2 0. ]\n",
            " [7.  3.2 4.7 1.4 1. ]\n",
            " [6.4 3.2 4.5 1.5 1. ]\n",
            " [6.9 3.1 4.9 1.5 1. ]\n",
            " [6.3 3.3 6.  2.5 2. ]\n",
            " [5.8 2.7 5.1 1.9 2. ]\n",
            " [7.1 3.  5.9 2.1 2. ]]\n",
            "|--- petal length (cm) <= 2.95\n",
            "|   |--- class: 0.0\n",
            "|--- petal length (cm) >  2.95\n",
            "|   |--- petal length (cm) <= 5.00\n",
            "|   |   |--- class: 1.0\n",
            "|   |--- petal length (cm) >  5.00\n",
            "|   |   |--- class: 2.0\n",
            "\n"
          ]
        },
        {
          "output_type": "display_data",
          "data": {
            "text/plain": [
              "<Figure size 432x288 with 1 Axes>"
            ],
            "image/png": "[encoded data removed]"
          },
          "metadata": {
            "needs_background": "light"
          }
        }
      ]
    },
    {
      "cell_type": "markdown",
      "source": [],
      "metadata": {
        "id": "9JOA6V4JS3D8"
      }
    }
  ]
}